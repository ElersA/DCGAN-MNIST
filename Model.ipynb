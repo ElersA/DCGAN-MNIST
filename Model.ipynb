{
 "cells": [
  {
   "cell_type": "markdown",
   "metadata": {},
   "source": [
    "# Why DCGAN instead of GAN?\n",
    "\n",
    "Generative Adversarial Networks (GANs) use two networks to generate data (generator) and classify if it is real or generated (discriminator). These two networks continuously tries to improve their abilities and after training one can supply some noise to the generator and it will generate some output, e.g. a cat if it has been trained on cat pictures.  \n",
    "\n",
    "Problems with GANs are that they are hard to train, the model can collapse, slight changes in variables/architecture can destabilize the model, i.e. training GANs is somewhat of an art according to some. Deep Convolutional GANs (DCGANs) solves/mitigates these problems.  \n",
    "\n",
    "### Main differences between DCGANs and GANs\n",
    "Making three changes to GANs allows them to become more stable and produce better results.  \n",
    "\n",
    "The first change is to replace pooling functions with convolution layers.  \n",
    "The second change is to remove fully connected layers on top of convolutional layers.  \n",
    "The third change to use batch normalization (although with some caveats...)\n",
    "\n",
    "![title](./guidelines.png)\n",
    "\n",
    "Source: DCGAN paper by Radford, Metz & Chintala\n",
    "\n",
    "## General Architecture of DCGANs\n",
    "\n",
    "\n",
    "## Challenges with DCGANs"
   ]
  },
  {
   "cell_type": "code",
   "execution_count": null,
   "metadata": {},
   "outputs": [],
   "source": []
  },
  {
   "cell_type": "code",
   "execution_count": 8,
   "metadata": {},
   "outputs": [
    {
     "name": "stdout",
     "output_type": "stream",
     "text": [
      "TensorFlow version: 1.12.0\n"
     ]
    }
   ],
   "source": [
    "# Imports\n",
    "import tensorflow as tf\n",
    "from tensorflow.keras import layers\n",
    "import numpy as np\n",
    "import matplotlib.pyplot as plt\n",
    "\n",
    "%matplotlib inline\n",
    "\n",
    "# to make this notebook's output stable across runs (from lab2)\n",
    "def reset_graph(seed=42):\n",
    "    tf.reset_default_graph()\n",
    "    tf.set_random_seed(seed)\n",
    "    np.random.seed(seed)\n",
    "    \n",
    "print(f\"TensorFlow version: {tf.__version__}\")"
   ]
  },
  {
   "cell_type": "code",
   "execution_count": 13,
   "metadata": {},
   "outputs": [],
   "source": [
    "class DCGAN(object):\n",
    "    \n",
    "    def __init__(self):\n",
    "        \"\"\"\n",
    "        Constructs DCCGAN with tf.Keras\n",
    "\n",
    "        \"\"\"\n",
    "        \n",
    "        # Set parameters\n",
    "        self.rows = 28\n",
    "        self.columns = 28\n",
    "        self.channels = 1\n",
    "        self.shape = (self.rows, self.columns, self.channels) # Image shape \n",
    "        self.batch_size = 128\n",
    "        \n",
    "        # Build the models\n",
    "        self.generator = self._buildGenerator()\n",
    "        self.discriminator = self._buildDiscriminator()\n",
    "    \n",
    "        # Compile the models\n",
    "        self.generator.compile()\n",
    "        self.discriminator.compile()\n",
    "        \n",
    "        # Train the models\n",
    "        \n",
    "        \n",
    "    # Currently following this: https://julianzaidi.wordpress.com/2017/04/24/deep-convolution-gan-dcgan-architecture-and-training/\n",
    "    def _buildGenerator(self):\n",
    "        \"\"\"\n",
    "        Constructs the generator part of the DCGAN\n",
    "        \"\"\"\n",
    "        ##########\n",
    "        # Layers #\n",
    "        ##########\n",
    "        # 1. Input\n",
    "        # 2. Reshape layer\n",
    "        # 3. Transposed conv layer\n",
    "        # 4. Transposed conv layer\n",
    "        # 5. Transposed conv layer\n",
    "        # 6. Transposed conv layer\n",
    "        # 7. Transposed conv layer\n",
    "        \n",
    "        #model = tf.keras.Input() # Sequential or Functional API?\n",
    "        # In the blog post they use a reshape, is that neccessary? Investigate\n",
    "        noise = np.random.normal(loc=0 , scale=0.2 , shape=(self.batch_size, self.rows, 1, 1))\n",
    "        model = tf.keras.Sequential()\n",
    "        model.add(layers.Conv2DTranspose())\n",
    "        model.add(layers.Conv2DTranspose())\n",
    "        model.add(layers.Conv2DTranspose())\n",
    "        model.add(layers.Conv2DTranspose())\n",
    "        model.add(layers.Conv2DTranspose())\n",
    "    \n",
    "    def _buildDiscriminator(self):\n",
    "        \"\"\"\n",
    "        Constructs the discriminator part of the DCGAN\n",
    "        \"\"\"\n",
    "        ##########\n",
    "        # Layers #\n",
    "        ##########\n",
    "        # 1. Input\n",
    "        # 2. Conv layer\n",
    "        # 3. Conv layer\n",
    "        # 4. Conv layer\n",
    "        # 5. Conv layer\n",
    "        # 6. Dense layer\n",
    "        \n",
    "        model = tf.keras.Sequential()\n",
    "        model.add(layers.Conv2D())\n",
    "        model.add(layers.Conv2D())\n",
    "        model.add(layers.Conv2D())\n",
    "        model.add(layers.Conv2D())\n",
    "        model.add(layers.Dense())\n",
    "    \n",
    "    def trainModel(self):\n",
    "        \"\"\"\n",
    "        Trains the generator and discriminator\n",
    "        \"\"\"\n",
    "        \n"
   ]
  },
  {
   "cell_type": "code",
   "execution_count": 11,
   "metadata": {},
   "outputs": [
    {
     "name": "stdout",
     "output_type": "stream",
     "text": [
      "[[[[ 0.13897881]]\n",
      "\n",
      "  [[ 0.11966697]]]\n",
      "\n",
      "\n",
      " [[[-0.47545968]]\n",
      "\n",
      "  [[ 0.2212227 ]]]\n",
      "\n",
      "\n",
      " [[[ 0.19881932]]\n",
      "\n",
      "  [[-0.03660763]]]]\n"
     ]
    }
   ],
   "source": [
    "#noise = np.random.normal(loc=0 , scale=0.2 , size=(3, 2, 1, 1))\n",
    "#print(noise)"
   ]
  },
  {
   "cell_type": "code",
   "execution_count": null,
   "metadata": {},
   "outputs": [],
   "source": []
  }
 ],
 "metadata": {
  "kernelspec": {
   "display_name": "Python 3",
   "language": "python",
   "name": "python3"
  },
  "language_info": {
   "codemirror_mode": {
    "name": "ipython",
    "version": 3
   },
   "file_extension": ".py",
   "mimetype": "text/x-python",
   "name": "python",
   "nbconvert_exporter": "python",
   "pygments_lexer": "ipython3",
   "version": "3.6.5"
  }
 },
 "nbformat": 4,
 "nbformat_minor": 2
}
